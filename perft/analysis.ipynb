{
 "cells": [
  {
   "cell_type": "code",
   "execution_count": 1,
   "id": "935ca0d8",
   "metadata": {},
   "outputs": [],
   "source": [
    "# params\n",
    "\n",
    "PERFT_UPTO = 4\n",
    "POSITIONS = \"positions.tps\"\n",
    "OUT_DATA = \"res\"\n",
    "ENGINES = {\n",
    "    'auri': 'auri_perft/build/perft',\n",
    "    'tiltak': 'tiltak_perft/target/release/tiltak_perft',\n",
    "    'topaz': 'topaz_perft/target/release/topaz_perft'\n",
    "}"
   ]
  },
  {
   "cell_type": "code",
   "execution_count": 2,
   "id": "b606f071",
   "metadata": {},
   "outputs": [],
   "source": [
    "from os import system, environ\n",
    "from pathlib import Path"
   ]
  },
  {
   "cell_type": "code",
   "execution_count": 3,
   "id": "a12ea93b",
   "metadata": {},
   "outputs": [
    {
     "name": "stdout",
     "output_type": "stream",
     "text": [
      "x5/x5/x5/x5/x5 1 1\n",
      "x3,12,2S/x,22S,22C,11,21/121,212,12,1121C,1212S/21S,1,21,211S,12S/x,21S,2,x2 1 26\n"
     ]
    }
   ],
   "source": [
    "positions = Path.cwd() / POSITIONS\n",
    "with positions.open() as io:\n",
    "    print(io.read())"
   ]
  },
  {
   "cell_type": "code",
   "execution_count": 4,
   "id": "65f417d1",
   "metadata": {},
   "outputs": [],
   "source": [
    "# set $PERFT_UPTO\n",
    "environ[\"PERFT_UPTO\"] = str(PERFT_UPTO)\n",
    "(Path.cwd() / OUT_DATA).mkdir(exist_ok=True)\n",
    "\n",
    "# run engines\n",
    "for engine in ENGINES:\n",
    "    system(f\"{ENGINES[engine]} < {POSITIONS} > {OUT_DATA}/{engine}.csv\")"
   ]
  },
  {
   "cell_type": "code",
   "execution_count": 5,
   "id": "d95dc257",
   "metadata": {},
   "outputs": [
    {
     "name": "stdout",
     "output_type": "stream",
     "text": [
      "auri\n",
      "\"x5/x5/x5/x5/x5 1 1\", 25, 600, 43320, 2999784\n",
      "\"x3,12,2S/x,22S,22C,11,21/121,212,12,1121C,1212S/21S,1,21,211S,12S/x,21S,2,x2 1 26\", 91, 5684, 509822, 34330990\n",
      "\n",
      "tiltak\n",
      "\"x5/x5/x5/x5/x5 1 1\", 25, 600, 43320, 2999784\n",
      "\"x3,12,2S/x,22S,22C,11,21/121,212,12,1121C,1212S/21S,1,21,211S,12S/x,21S,2,x2 1 26\", 91, 5632, 506790, 33909129\n",
      "\n",
      "topaz\n",
      "\"x5/x5/x5/x5/x5 1 1\", 25, 600, 43320, 2999784\n",
      "\"x3,12,2S/x,22S,22C,11,21/121,212,12,1121C,1212S/21S,1,21,211S,12S/x,21S,2,x2 1 26\", 91, 5684, 514768, 35279739\n",
      "\n"
     ]
    }
   ],
   "source": [
    "for engine in ENGINES:\n",
    "    with (Path.cwd() / OUT_DATA / f\"{engine}.csv\").open() as io:\n",
    "        print(engine)\n",
    "        print(io.read())"
   ]
  }
 ],
 "metadata": {
  "kernelspec": {
   "display_name": "Python 3 (ipykernel)",
   "language": "python",
   "name": "python3"
  },
  "language_info": {
   "codemirror_mode": {
    "name": "ipython",
    "version": 3
   },
   "file_extension": ".py",
   "mimetype": "text/x-python",
   "name": "python",
   "nbconvert_exporter": "python",
   "pygments_lexer": "ipython3",
   "version": "3.10.12"
  }
 },
 "nbformat": 4,
 "nbformat_minor": 5
}
